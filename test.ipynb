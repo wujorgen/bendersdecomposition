{
 "cells": [
  {
   "cell_type": "code",
   "execution_count": 1,
   "metadata": {},
   "outputs": [
    {
     "name": "stdout",
     "output_type": "stream",
     "text": [
      "['CLARABEL', 'GUROBI', 'OSQP', 'SCIPY', 'SCS']\n"
     ]
    }
   ],
   "source": [
    "import numpy as np\n",
    "import cvxpy as cp\n",
    "\n",
    "print(cp.installed_solvers())\n",
    "assert \"SCIPY\" in cp.installed_solvers()\n",
    "assert \"GUROBI\" in cp.installed_solvers()"
   ]
  },
  {
   "cell_type": "markdown",
   "metadata": {},
   "source": [
    "References:\n",
    "- [This](https://github.com/elena-ecn/benders-decomposition/blob/main/benders.py) Github repo was a huge help\n",
    "- TUTORIAL BENDERS DECOMPOSITION IN RESTRUCTURED POWER SYSTEMS"
   ]
  },
  {
   "cell_type": "markdown",
   "metadata": {},
   "source": [
    "\\begin{split}\n",
    "\\min z = \\mathbf{c}^T \\mathbf{x} +\\mathbf{d}^T \\mathbf{y} \\\\\n",
    "\\textrm{s.t} \\\\\n",
    "\\mathbf{A} \\mathbf{y} \\geq \\mathbf{b} \\\\\n",
    "\\mathbf{E} \\mathbf{x} + \\mathbf{F} \\mathbf{y} \\geq \\mathbf{h} \\\\\n",
    "\\mathbf{x} \\geq 0, \\mathbf{y} \\in \\mathbf{S}\n",
    "\\end{split}"
   ]
  },
  {
   "cell_type": "markdown",
   "metadata": {},
   "source": [
    "The main problem is defined as:\n",
    "\\begin{split}\n",
    "\\min \\mathbf{d}^T \\mathbf{y} \\\\\n",
    "\\textrm{s.t.} \\\\\n",
    "\\mathbf{A} \\mathbf{y} \\geq \\mathbf{b} \\\\\n",
    "\\mathbf{y} \\in S\n",
    "\\end{split}"
   ]
  },
  {
   "cell_type": "markdown",
   "metadata": {},
   "source": [
    "The subproblem (primal) is defined as:\n",
    "\\begin{split}\n",
    "\\min \\mathbf{c}^T \\mathbf{x} \\\\\n",
    "\\textrm{s.t.} \\\\\n",
    "\\mathbf{E}\\mathbf{x} \\geq \\mathbf{h} - \\mathbf{F}\\hat{\\mathbf{y}}\\\\\n",
    "\\mathbf{x} \\geq 0\n",
    "\\end{split}"
   ]
  },
  {
   "cell_type": "markdown",
   "metadata": {},
   "source": [
    "The subproblem (dual) is defined as:\n",
    "\\begin{split}\n",
    "\\max (\\mathbf{h} - \\mathbf{F}\\hat{\\mathbf{y}} )^T \\mathbf{u}\\\\\n",
    "\\textrm{s.t.}\\\\\n",
    "\\mathbf{E}^T \\mathbf{u} \\leq \\mathbf{c}\\\\\n",
    "\\mathbf{u} \\geq \\mathbf{0}\n",
    "\\end{split}"
   ]
  },
  {
   "cell_type": "markdown",
   "metadata": {},
   "source": [
    "The feasibility check subproblem is defined as:\n",
    "\\begin{split}\n",
    "\\min \\mathbf{1}^T \\mathbf{s} \\\\\n",
    "\\textrm{s.t.} \\\\\n",
    "\\mathbf{E}\\mathbf{x} + \\mathbf{I}\\mathbf{s} \\geq \\mathbf{h} - \\mathbf{F}\\hat{\\mathbf{y}} \\rightarrow \\mathbf{u}^r\\\\\n",
    "\\mathbf{x}\\geq 0, \\space \\mathbf{s} \\geq 0\\\\\n",
    "\\end{split}"
   ]
  },
  {
   "cell_type": "markdown",
   "metadata": {},
   "source": [
    "The algorithm is:\n",
    "\n",
    "0) Solve Main Problem $\\rightarrow$ $\\hat{\\mathbf{y}}$\n",
    "    - Lower bound on solution is establised at $\\mathbf{d}^T \\hat{\\mathbf{y}}$\n",
    "1) Solve Sub Problem $\\rightarrow$ $\\hat{\\mathbf{x}}$ or $\\hat{\\mathbf{u}}$\n",
    "    - If optimal solution is found:\n",
    "        - Upper bound on solution at $\\mathbf{d}^T \\hat{\\mathbf{y}} + \\mathbf{c}^T\\hat{\\mathbf{x}}$ or $\\mathbf{d}^T \\hat{\\mathbf{y}} + (\\mathbf{h}-\\mathbf{F}\\hat{\\mathbf{y}})^T\\hat{\\mathbf{u}}$\n",
    "        - If the upper and lower bounds are close enough to a tolerance, stop solution loop and extract variable values.\n",
    "            - Else, add optimality constraint to Main Problem of form of $n \\geq (\\mathbf{h} - \\mathbf{F}\\mathbf{y})^T \\hat{\\mathbf{u}}^p$\n",
    "    - Else, if dual is unbounded (primal is infeasible):\n",
    "        - Solve the feasibility check subproblem\n",
    "        - Add feasibility constraint of form $0 \\geq (\\mathbf{h}-\\mathbf{F}\\mathbf{y})^T \\hat{\\mathbf{u}}^r$\n",
    "2) Solve Main Problem\n",
    "    - This is a modified form of the original main problem. Include all the optimality and feasibility constraints, and make the objective function $\\mathbf{d}^T\\mathbf{y} + n$, where $n$ is a slack variable of sorts to allow for minimizing the lower bound $z_{lower}$ subject to $z_{lower} \\geq \\mathbf{d}^T\\mathbf{y}$"
   ]
  },
  {
   "cell_type": "markdown",
   "metadata": {},
   "source": [
    "# Example 4.1\n",
    "\n",
    "\\begin{split}\n",
    "\\min x + y \\\\\n",
    "\\textrm{s.t.} 2x + y \\geq 3 \\\\\n",
    "x \\geq 0 \\\\ \n",
    "y \\in \\{-5,-4,\\dots,3,4\\} \\\\\n",
    "\\end{split}"
   ]
  },
  {
   "cell_type": "code",
   "execution_count": 2,
   "metadata": {},
   "outputs": [],
   "source": [
    "# Example 4.1\n",
    "c = np.array([1.])\n",
    "d = np.array([1.])\n",
    "E = np.array([2.])\n",
    "F = np.array([1.])\n",
    "h = np.array([3.])"
   ]
  },
  {
   "cell_type": "code",
   "execution_count": 3,
   "metadata": {},
   "outputs": [
    {
     "name": "stdout",
     "output_type": "stream",
     "text": [
      "Restricted license - for non-production use only - expires 2026-11-23\n"
     ]
    },
    {
     "data": {
      "text/plain": [
       "(array([[-5.]]), -5.0, -5.0, 'optimal')"
      ]
     },
     "execution_count": 3,
     "metadata": {},
     "output_type": "execute_result"
    }
   ],
   "source": [
    "# Main Problem, Itr 1\n",
    "z_lower = cp.Variable((1,1))\n",
    "y = cp.Variable((1,1), integer=True)\n",
    "constraints = [y >= -5., y <= 4., z_lower >= y]\n",
    "objective = z_lower\n",
    "prob = cp.Problem(cp.Minimize(objective), constraints)\n",
    "prob.solve(solver=\"GUROBI\")\n",
    "z_lower_1 = prob.value\n",
    "y_hat_1 = y.value\n",
    "(y_hat_1, z_lower_1, prob.value, prob.status)"
   ]
  },
  {
   "cell_type": "code",
   "execution_count": 4,
   "metadata": {},
   "outputs": [
    {
     "data": {
      "text/plain": [
       "(array([[4.]]), array([-1.]), 3.9999999996766573, 'optimal')"
      ]
     },
     "execution_count": 4,
     "metadata": {},
     "output_type": "execute_result"
    }
   ],
   "source": [
    "# Primal Subproblem, Itr 1\n",
    "x = cp.Variable((1,1))\n",
    "constraints = [x >= 0, 2*x + y_hat_1 >= 3]\n",
    "objective = x\n",
    "prob = cp.Problem(cp.Minimize(objective), constraints)\n",
    "prob.solve()\n",
    "x_hat_1 = x.value\n",
    "z_upper_1 = d @ y_hat_1 + c @ x_hat_1\n",
    "(x_hat_1, z_upper_1, prob.value, prob.status)"
   ]
  },
  {
   "cell_type": "code",
   "execution_count": 5,
   "metadata": {},
   "outputs": [
    {
     "data": {
      "text/plain": [
       "(array([[0.5]]), array([4.]), array([-1.]), 3.999999999486556, 'optimal')"
      ]
     },
     "execution_count": 5,
     "metadata": {},
     "output_type": "execute_result"
    }
   ],
   "source": [
    "# Dual Subproblem, Itr 1\n",
    "u = cp.Variable((1,1))\n",
    "constraints = [u >= 0, E@u <= c]\n",
    "objective = (h - F @ y_hat_1) @ u\n",
    "prob = cp.Problem(cp.Maximize(objective), constraints)\n",
    "prob.solve()\n",
    "u_hat_1 = u.value\n",
    "z_upper_1 = d @ y_hat_1 + (h - F @ y_hat_1) @ u_hat_1\n",
    "(u_hat_1, constraints[1].dual_value, z_upper_1, prob.value, prob.status)"
   ]
  },
  {
   "cell_type": "code",
   "execution_count": 6,
   "metadata": {},
   "outputs": [],
   "source": [
    "assert z_upper_1 > z_lower_1"
   ]
  },
  {
   "cell_type": "code",
   "execution_count": 7,
   "metadata": {},
   "outputs": [
    {
     "data": {
      "text/plain": [
       "(array([[-5.]]), -1.000000000513444, -1.000000000513444, 'optimal')"
      ]
     },
     "execution_count": 7,
     "metadata": {},
     "output_type": "execute_result"
    }
   ],
   "source": [
    "# Main Problem, Itr 2\n",
    "z_lower = cp.Variable((1,1))\n",
    "y = cp.Variable((1,1), integer=True)\n",
    "n = cp.Variable((1,1))\n",
    "constraints = [y >= -5., y <= 4., z_lower >= d @ y + (h - F @ y) @ u_hat_1]\n",
    "objective = z_lower\n",
    "prob = cp.Problem(cp.Minimize(objective), constraints)\n",
    "prob.solve(solver=\"GUROBI\", reoptimize=True)\n",
    "z_lower_2 = prob.value\n",
    "y_hat_2 = y.value\n",
    "(y.value, z_lower_2, prob.value, prob.status)"
   ]
  },
  {
   "cell_type": "code",
   "execution_count": 8,
   "metadata": {},
   "outputs": [
    {
     "data": {
      "text/plain": [
       "(array([[-5.]]),\n",
       " array([[4.]]),\n",
       " -1.000000000513444,\n",
       " -1.000000000513444,\n",
       " 'optimal')"
      ]
     },
     "execution_count": 8,
     "metadata": {},
     "output_type": "execute_result"
    }
   ],
   "source": [
    "# Main Problem, Itr 2\n",
    "# This also works. \n",
    "# The IIT tutorial paper uses z_lower >= d @ y + (h - F @ y) @ u_hat_1\n",
    "# https://github.com/elena-ecn/benders-decomposition/blob/main/benders.py uses (h - F @ y) @ u_hat_1\n",
    "# It seems that n = z - d @ y, so its a sort of slack variable\n",
    "z_lower = cp.Variable((1,1))\n",
    "y = cp.Variable((1,1), integer=True)\n",
    "n = cp.Variable((1,1))\n",
    "constraints = [y >= -5., y <= 4., n >= (h - F@y) @ u_hat_1]\n",
    "objective = y + n\n",
    "prob = cp.Problem(cp.Minimize(objective), constraints)\n",
    "prob.solve(solver=\"GUROBI\", reoptimize=False)\n",
    "z_lower_2 = prob.value\n",
    "y_hat_2 = y.value\n",
    "(y.value, n.value, z_lower_2, prob.value, prob.status)"
   ]
  },
  {
   "cell_type": "markdown",
   "metadata": {},
   "source": [
    "# Example 5.1"
   ]
  },
  {
   "cell_type": "markdown",
   "metadata": {},
   "source": [
    "\\begin{split}\n",
    "\\min x_1 + 3x_2 + y_1 + 4y_2 \\\\\n",
    "\\textrm{s.t.} \\\\\n",
    "-2x_1 - x_2 + y_1 - 2y_2 \\geq 1 \\\\\n",
    "2x_1 + 2x_2 - y_1 + 3y_2 \\geq 1 \\\\\n",
    "x_1, x_2 \\geq 0, \\space y_1, y_2 \\geq 0\n",
    "\\end{split}"
   ]
  },
  {
   "cell_type": "code",
   "execution_count": 9,
   "metadata": {},
   "outputs": [],
   "source": [
    "c = np.array([1., 3.])\n",
    "d = np.array([1., 4.])\n",
    "E = np.array([[-2., -1.], [2., 2.]])\n",
    "F = np.array([[1., -2.], [-1., 3.]])\n",
    "h = np.array([1., 1.])"
   ]
  },
  {
   "cell_type": "code",
   "execution_count": 10,
   "metadata": {},
   "outputs": [
    {
     "data": {
      "text/plain": [
       "(array([0., 0.]), np.float64(0.0), 'optimal')"
      ]
     },
     "execution_count": 10,
     "metadata": {},
     "output_type": "execute_result"
    }
   ],
   "source": [
    "# Main Problem (1)\n",
    "z_lower = cp.Variable(2)\n",
    "y = cp.Variable(2)\n",
    "constraints = [y >= np.zeros_like(0)]\n",
    "objective = d @ y\n",
    "prob = cp.Problem(cp.Minimize(objective), constraints)\n",
    "prob.solve(solver=\"GUROBI\")\n",
    "z_lower_1 = d @ y.value  # no slack var in first main iteration, so...whatevs\n",
    "y_hat_1 = y.value\n",
    "y_hat_1, z_lower_1, prob.status"
   ]
  },
  {
   "cell_type": "code",
   "execution_count": 11,
   "metadata": {},
   "outputs": [
    {
     "name": "stdout",
     "output_type": "stream",
     "text": [
      "None\n"
     ]
    },
    {
     "data": {
      "text/plain": [
       "(None, array([-1.]), inf, 'infeasible')"
      ]
     },
     "execution_count": 11,
     "metadata": {},
     "output_type": "execute_result"
    }
   ],
   "source": [
    "# Primal Subproblem, Itr 1\n",
    "x = cp.Variable(2)\n",
    "constraints = [x >= np.zeros_like(x), E @ x >= h - F @ y_hat_1]\n",
    "objective = c @ x\n",
    "prob = cp.Problem(cp.Minimize(objective), constraints)\n",
    "prob.solve()\n",
    "x_hat_1 = x.value\n",
    "print(x_hat_1)\n",
    "#z_upper_1 = d @ y_hat_1 + c @ x_hat_1\n",
    "(x_hat_1, z_upper_1, prob.value, prob.status)"
   ]
  },
  {
   "cell_type": "code",
   "execution_count": 12,
   "metadata": {},
   "outputs": [
    {
     "name": "stdout",
     "output_type": "stream",
     "text": [
      "unbounded\n"
     ]
    }
   ],
   "source": [
    "# Dual Subproblem, Itr 1\n",
    "u = cp.Variable((2,1))\n",
    "constraints = [\n",
    "    u >= np.zeros_like(u), \n",
    "    E.T @ u <= c\n",
    "]\n",
    "objective = (h - F @ y_hat_1) @ u\n",
    "prob = cp.Problem(cp.Maximize(objective), constraints)\n",
    "prob.solve()\n",
    "print(prob.status)\n",
    "#u_hat_1 = u.value\n",
    "#z_upper_1 = d @ y_hat_1 + (h - F @ y_hat_1) @ u_hat_1\n",
    "#(u_hat_1, z_upper_1, prob.value, prob.status)"
   ]
  },
  {
   "cell_type": "code",
   "execution_count": 13,
   "metadata": {},
   "outputs": [
    {
     "name": "stdout",
     "output_type": "stream",
     "text": [
      "optimal\n",
      "[1.  0.5] [1.5, 0.0] [0.0, 0.5] 1.5\n"
     ]
    }
   ],
   "source": [
    "# The primal subproblme is infeasible and dual subproblem is unbounded\n",
    "# This requires the feasibility check subproblem to generate a feasibility cut\n",
    "s = cp.Variable(2)\n",
    "x = cp.Variable(2)\n",
    "objective = np.array([1., 1.]) @ s\n",
    "constraints = [x >= 0, s>=0, E@x + np.eye(2)@s >= h - F @ y_hat_1]\n",
    "prob = cp.Problem(cp.Minimize(objective), constraints)\n",
    "prob.solve(solver=\"GUROBI\")\n",
    "print(prob.status)\n",
    "# The dual values of the constraints (Lagrange multipliers) are stored each constraint\n",
    "# We are interested in the duals of the decision variables, not their feasibility\n",
    "# To get this by hand, you can construct the Lagrangian using the KKT conditions\n",
    "r_hat_1 = constraints[2].dual_value\n",
    "print(r_hat_1, s.value.tolist(), x.value.tolist(), prob.value)"
   ]
  },
  {
   "cell_type": "code",
   "execution_count": 14,
   "metadata": {},
   "outputs": [
    {
     "data": {
      "text/plain": [
       "(array([ 3., -0.]), np.float64(3.0), 'optimal')"
      ]
     },
     "execution_count": 14,
     "metadata": {},
     "output_type": "execute_result"
    }
   ],
   "source": [
    "# Main Problem (2)\n",
    "# we add a feasibility cut: (h-Fy)^T @ u <= 0\n",
    "# The alternate form would be {solution to feasibility check} - (y - y_hat)^T @ F^T @ u <= 0\n",
    "# where \"u\" is the dual values from the feasiblity check\n",
    "z_lower = cp.Variable(2)\n",
    "y = cp.Variable(2, integer=True)\n",
    "constraints = [y >= 0, (h-F@y)@r_hat_1 <= 0 ]\n",
    "objective = d @ y\n",
    "prob = cp.Problem(cp.Minimize(objective), constraints)\n",
    "prob.solve(solver=\"GUROBI\")\n",
    "z_lower_2 = d @ y.value\n",
    "y_hat_2 = y.value\n",
    "y_hat_2, z_lower_2, prob.status"
   ]
  },
  {
   "cell_type": "code",
   "execution_count": 15,
   "metadata": {},
   "outputs": [
    {
     "name": "stdout",
     "output_type": "stream",
     "text": [
      "[-0.  2.]\n"
     ]
    },
    {
     "data": {
      "text/plain": [
       "(array([-0.,  2.]), np.float64(9.0), np.float64(6.0), 'optimal')"
      ]
     },
     "execution_count": 15,
     "metadata": {},
     "output_type": "execute_result"
    }
   ],
   "source": [
    "# Primal Subproblem, Itr 2\n",
    "x = cp.Variable(2)\n",
    "constraints = [x >= np.zeros_like(x), E @ x >= h - F @ y_hat_2]\n",
    "objective = c @ x\n",
    "prob = cp.Problem(cp.Minimize(objective), constraints)\n",
    "prob.solve(solver=\"SCIPY\")\n",
    "x_hat_2 = x.value\n",
    "print(x_hat_2)\n",
    "z_upper_2 = d @ y_hat_2 + c @ x_hat_2\n",
    "(x_hat_2, z_upper_2, prob.value, prob.status)"
   ]
  },
  {
   "cell_type": "code",
   "execution_count": 16,
   "metadata": {},
   "outputs": [
    {
     "name": "stdout",
     "output_type": "stream",
     "text": [
      "optimal\n"
     ]
    },
    {
     "data": {
      "text/plain": [
       "(array([2. , 2.5]), np.float64(9.0), np.float64(6.0), 'optimal')"
      ]
     },
     "execution_count": 16,
     "metadata": {},
     "output_type": "execute_result"
    }
   ],
   "source": [
    "# Dual Subproblem, Itr 2\n",
    "u = cp.Variable(2)\n",
    "constraints = [\n",
    "    u >= np.zeros_like(u), \n",
    "    E.T @ u <= c\n",
    "]\n",
    "objective = (h - F @ y_hat_2) @ u\n",
    "prob = cp.Problem(cp.Maximize(objective), constraints)\n",
    "prob.solve(solver=\"SCIPY\")  # only SCIPY or CUROBI return correct answers here. what the fuck? SCS gives 19!!!\n",
    "print(prob.status)\n",
    "u_hat_2 = u.value\n",
    "z_upper_2 = d @ y_hat_2 + (h - F @ y_hat_2) @ u_hat_2\n",
    "(u_hat_2, z_upper_2, prob.value, prob.status)"
   ]
  },
  {
   "cell_type": "code",
   "execution_count": 17,
   "metadata": {},
   "outputs": [
    {
     "data": {
      "text/plain": [
       "(array([3., 0.]), array([9.]), 'optimal')"
      ]
     },
     "execution_count": 17,
     "metadata": {},
     "output_type": "execute_result"
    }
   ],
   "source": [
    "# Main Problem (3)\n",
    "# here, the objective function takes the form d@y + n\n",
    "# the \"n\" was always there before it just didn't do anything\n",
    "# see iteration 2 of example 4.1 -> its a sort of slack variable n = z - d @ y \n",
    "# when the objective function is Z\n",
    "# iteration 2 subproblem was feasible, so we add a optimality constraint of form n >= (h - Fy)^T u_hat_2\n",
    "z_lower = cp.Variable(2)\n",
    "y = cp.Variable(2)\n",
    "n = cp.Variable(1)\n",
    "constraints = [y >= np.zeros_like(0), (h-F@y)@r_hat_1 <= 0, n >= (h - F@y) @ u_hat_2]\n",
    "objective = d @ y + n\n",
    "prob = cp.Problem(cp.Minimize(objective), constraints)\n",
    "prob.solve(solver=\"GUROBI\")\n",
    "z_lower_3 = d @ y.value + n.value\n",
    "y_hat_3 = y.value\n",
    "y_hat_3, z_lower_3, prob.status"
   ]
  },
  {
   "cell_type": "code",
   "execution_count": 18,
   "metadata": {},
   "outputs": [],
   "source": [
    "assert np.isclose(z_lower_3, z_upper_2)"
   ]
  }
 ],
 "metadata": {
  "kernelspec": {
   "display_name": "venv",
   "language": "python",
   "name": "python3"
  },
  "language_info": {
   "codemirror_mode": {
    "name": "ipython",
    "version": 3
   },
   "file_extension": ".py",
   "mimetype": "text/x-python",
   "name": "python",
   "nbconvert_exporter": "python",
   "pygments_lexer": "ipython3",
   "version": "3.12.3"
  }
 },
 "nbformat": 4,
 "nbformat_minor": 2
}
